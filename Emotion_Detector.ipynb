{
 "cells": [
  {
   "cell_type": "code",
   "execution_count": 1,
   "metadata": {},
   "outputs": [
    {
     "name": "stderr",
     "output_type": "stream",
     "text": [
      "Using TensorFlow backend.\n"
     ]
    }
   ],
   "source": [
    "import cv2\n",
    "import sys\n",
    "from keras.models import load_model\n",
    "import skimage"
   ]
  },
  {
   "cell_type": "code",
   "execution_count": 2,
   "metadata": {},
   "outputs": [
    {
     "name": "stdout",
     "output_type": "stream",
     "text": [
      "Loaded Model from disk\n"
     ]
    }
   ],
   "source": [
    "cascPath = \"./haarcascade_frontalface_default.xml\"\n",
    "faceCascade = cv2.CascadeClassifier(cascPath)\n",
    "from keras.models import model_from_json\n",
    "from keras.losses import categorical_crossentropy\n",
    "from keras.optimizers import Adam\n",
    "json_file = open('fer.json','r')\n",
    "loaded_model_json = json_file.read()\n",
    "json_file.close()\n",
    "loaded_model = model_from_json(loaded_model_json)\n",
    "#load woeights into new model\n",
    "loaded_model.load_weights(\"fer.h5\")\n",
    "print(\"Loaded Model from disk\")\n",
    "\n",
    "#compile and evaluate loaded model\n",
    "loaded_model.compile(loss=categorical_crossentropy,optimizer=Adam(lr=0.001, beta_1=0.9, beta_2=0.999, epsilon=1e-7),metrics=['accuracy'])"
   ]
  },
  {
   "cell_type": "code",
   "execution_count": 3,
   "metadata": {},
   "outputs": [],
   "source": [
    "from skimage import transform"
   ]
  },
  {
   "cell_type": "code",
   "execution_count": 4,
   "metadata": {},
   "outputs": [],
   "source": [
    "def crop(image, faces, k=0):\n",
    "    faces_arrays = []\n",
    "    for (top, right, bottom, left)in faces:\n",
    "        x0, y0 = left, bottom\n",
    "        x1, y1 = right, top\n",
    "        w, h = right-left, top-bottom\n",
    "        cv2.rectangle(img=image, pt1=(x0, y0), pt2=(x1, y1), color=(255,0,0), thickness=2)\n",
    "    # crop the region of interest over a copy \n",
    "        face = image[x1-20:x1+x0+20,y1-20:y1+y0+20].copy()\n",
    "        faces_arrays.append(face)\n",
    "    return faces_arrays"
   ]
  },
  {
   "cell_type": "code",
   "execution_count": 5,
   "metadata": {},
   "outputs": [],
   "source": [
    "from PIL import Image,ImageDraw\n",
    "import numpy as np"
   ]
  },
  {
   "cell_type": "code",
   "execution_count": 36,
   "metadata": {},
   "outputs": [],
   "source": [
    "cap = cv2.VideoCapture(0)\n",
    "zz=-1\n",
    "while(True):\n",
    "    zz+=1\n",
    "    # Capture frame-by-frame\n",
    "    ret, frame = cap.read()\n",
    "    # Our operations on the frame come here\n",
    "    gray = cv2.cvtColor(frame, cv2.COLOR_BGR2GRAY)\n",
    "    faces = faceCascade.detectMultiScale(\n",
    "        gray,\n",
    "        scaleFactor=1.2,\n",
    "        minNeighbors=4,\n",
    "        minSize=(30, 30),\n",
    "        flags=cv2.CASCADE_SCALE_IMAGE\n",
    "    )\n",
    "    f=faces\n",
    "    img=gray\n",
    "    fa=crop(img,f)\n",
    "    ans=[]\n",
    "    for i in fa:\n",
    "        if i is not None:\n",
    "            a=Image.fromarray(i)\n",
    "            q=a.resize((48,48))\n",
    "            #q.show()\n",
    "            x=np.asarray(q)\n",
    "            #print(x)\n",
    "            x.setflags(write=1)\n",
    "            x=x.astype('float64')\n",
    "            #print(x.shape)\n",
    "            x -= np.mean(x, axis=0)\n",
    "            x /= (np.std(x, axis=0)+1e-100)\n",
    "            x=x.reshape((1,48,48,1))\n",
    "            #print(x)\n",
    "            y=loaded_model.predict(x)\n",
    "            z=0\n",
    "            z1=-1\n",
    "            y[0][6]-=0.7\n",
    "            for j in range(0,7):\n",
    "                if z<y[0][j]:\n",
    "                    z1=j\n",
    "                    z=y[0][j]\n",
    "            ans.append(z1)\n",
    "    # Draw a rectangle around the faces\n",
    "    i=0\n",
    "    for (x, y, w, h) in faces:\n",
    "        cv2.rectangle(frame, (x-30, y-30), (x+w+30, y+h+30), (0,250,90), 2)\n",
    "        if ans[i]==0:\n",
    "            cv2.putText(frame, \"ANGRY\", (x,y+h+60), cv2.FONT_HERSHEY_SIMPLEX, 1, (0, 255, 255))\n",
    "        if ans[i]==1:\n",
    "            cv2.putText(frame, \"DISGUST\", (x,y+h+60), cv2.FONT_HERSHEY_SIMPLEX, 1, (0, 255, 255))\n",
    "        if ans[i]==2:\n",
    "            cv2.putText(frame, \"FEAR\", (x,y+h+60), cv2.FONT_HERSHEY_SIMPLEX, 1, (0, 255, 255))\n",
    "        if ans[i]==3:\n",
    "            cv2.putText(frame, \"HAPPY\", (x,y+h+60), cv2.FONT_HERSHEY_SIMPLEX, 1, (0, 255, 255))\n",
    "        if ans[i]==4:\n",
    "            cv2.putText(frame, \"SAD\", (x,y+h+60), cv2.FONT_HERSHEY_SIMPLEX, 1, (0, 255, 255))\n",
    "        if ans[i]==5:\n",
    "            cv2.putText(frame, \"SURPRISE\", (x,y+h+60), cv2.FONT_HERSHEY_SIMPLEX, 1, (0, 255, 255))\n",
    "        if ans[i]==6:\n",
    "            cv2.putText(frame, \"NEUTRAL\", (x,y+h+60), cv2.FONT_HERSHEY_SIMPLEX, 1, (0, 255, 255))\n",
    "        i+=1\n",
    "    # Display the resulting frame\n",
    "    cv2.imshow('frame',frame)\n",
    "    if cv2.waitKey(1) & 0xFF == ord('q'):\n",
    "        break\n",
    "# When everything done, release the capture\n",
    "cap.release()\n",
    "cv2.destroyAllWindows()"
   ]
  },
  {
   "cell_type": "code",
   "execution_count": null,
   "metadata": {},
   "outputs": [],
   "source": []
  }
 ],
 "metadata": {
  "kernelspec": {
   "display_name": "Python 3",
   "language": "python",
   "name": "python3"
  },
  "language_info": {
   "codemirror_mode": {
    "name": "ipython",
    "version": 3
   },
   "file_extension": ".py",
   "mimetype": "text/x-python",
   "name": "python",
   "nbconvert_exporter": "python",
   "pygments_lexer": "ipython3",
   "version": "3.6.5"
  }
 },
 "nbformat": 4,
 "nbformat_minor": 2
}
